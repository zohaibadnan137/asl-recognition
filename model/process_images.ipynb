{
 "cells": [
  {
   "attachments": {},
   "cell_type": "markdown",
   "metadata": {},
   "source": [
    "# Image Preprocessing"
   ]
  },
  {
   "attachments": {},
   "cell_type": "markdown",
   "metadata": {},
   "source": [
    "## Import the required libraries"
   ]
  },
  {
   "cell_type": "code",
   "execution_count": null,
   "metadata": {},
   "outputs": [],
   "source": [
    "import cv2\n",
    "import os\n",
    "from matplotlib import pyplot as plt \n",
    "import numpy as np"
   ]
  },
  {
   "attachments": {},
   "cell_type": "markdown",
   "metadata": {},
   "source": [
    "## Create the output directory"
   ]
  },
  {
   "cell_type": "code",
   "execution_count": null,
   "metadata": {},
   "outputs": [],
   "source": [
    "INP_DATA_DIR = \"./dataset\"\n",
    "OUT_DATA_DIR = \"./processed_dataset\"\n",
    "\n",
    "# Create a folder to store the processed images\n",
    "if not os.path.exists(OUT_DATA_DIR):\n",
    "    os.mkdir(OUT_DATA_DIR)"
   ]
  },
  {
   "attachments": {},
   "cell_type": "markdown",
   "metadata": {},
   "source": [
    "## Process the images"
   ]
  },
  {
   "cell_type": "code",
   "execution_count": null,
   "metadata": {},
   "outputs": [],
   "source": [
    "# Iterate through the input folder and process each image for each class \n",
    "for folder in sorted(os.listdir(INP_DATA_DIR)):\n",
    "    print(\"Processing class: \", folder)\n",
    "\n",
    "    # Create a folder for each class in the output directory\n",
    "    if not os.path.exists(os.path.join(OUT_DATA_DIR, folder)):\n",
    "        os.mkdir(os.path.join(OUT_DATA_DIR, folder))\n",
    "\n",
    "    # Iterate through each image in the input folder\n",
    "    for filename in sorted(os.listdir(os.path.join(INP_DATA_DIR, folder))):\n",
    "        print(\"Processing image: \", filename)\n",
    "\n",
    "        # Read the image\n",
    "        image = cv2.imread(os.path.join(INP_DATA_DIR, folder, filename))\n",
    "\n",
    "        # Convert the image to the YCrCb color space\n",
    "        ycrcb = cv2.cvtColor(image, cv2.COLOR_BGR2YCrCb)\n",
    "\n",
    "        # Apply adaptive thresholding on the Cr channel to segment the hand region\n",
    "        _, cr_thres = cv2.threshold(ycrcb[:, :, 1], 0, 255, cv2.THRESH_BINARY + cv2.THRESH_OTSU)\n",
    "\n",
    "        # Apply morphological operations to remove noise and fill holes\n",
    "        kernel = cv2.getStructuringElement(cv2.MORPH_ELLIPSE, (5, 5))\n",
    "        cr_thres = cv2.morphologyEx(cr_thres, cv2.MORPH_OPEN, kernel, iterations=2)\n",
    "        cr_thres = cv2.dilate(cr_thres, kernel, iterations=1)\n",
    "\n",
    "        # Find contours in the thresholded image\n",
    "        contours, _ = cv2.findContours(cr_thres.copy(), cv2.RETR_EXTERNAL, cv2.CHAIN_APPROX_SIMPLE)\n",
    "\n",
    "        # Find the contour with the largest area (assuming it's the hand)\n",
    "        contour = max(contours, key=cv2.contourArea)\n",
    "\n",
    "        # Create a mask of the hand region\n",
    "        mask = np.zeros(cr_thres.shape, dtype=np.uint8)\n",
    "        cv2.drawContours(mask, [contour], -1, 255, thickness=cv2.FILLED)\n",
    "\n",
    "        # Apply the mask to the original image\n",
    "        masked_image = cv2.bitwise_and(image, image, mask=mask)\n",
    "\n",
    "        # Find the bounding box of the hand region\n",
    "        x, y, w, h = cv2.boundingRect(contour)\n",
    "\n",
    "        # Crop the hand region from the original image\n",
    "        cropped_hand = masked_image[y:y+h, x:x+w]\n",
    "\n",
    "        # Resize the cropped hand to 224x224\n",
    "        cropped_hand = cv2.resize(cropped_hand, (224, 224))\n",
    "\n",
    "        # Save the cropped hand to the output folder\n",
    "        cv2.imwrite(os.path.join(OUT_DATA_DIR, folder, filename), cropped_hand)\n",
    "\n",
    "        # Display the cropped hand using matplotlib\n",
    "        plt.imshow(cv2.cvtColor(cropped_hand, cv2.COLOR_BGR2RGB))\n",
    "        plt.show()"
   ]
  }
 ],
 "metadata": {
  "kernelspec": {
   "display_name": "env",
   "language": "python",
   "name": "python3"
  },
  "language_info": {
   "codemirror_mode": {
    "name": "ipython",
    "version": 3
   },
   "file_extension": ".py",
   "mimetype": "text/x-python",
   "name": "python",
   "nbconvert_exporter": "python",
   "pygments_lexer": "ipython3",
   "version": "3.11.3"
  },
  "orig_nbformat": 4
 },
 "nbformat": 4,
 "nbformat_minor": 2
}
